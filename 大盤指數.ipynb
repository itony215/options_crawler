{
 "cells": [
  {
   "cell_type": "code",
   "execution_count": 1,
   "metadata": {},
   "outputs": [],
   "source": [
    "import pandas as pd\n",
    "import numpy as np\n",
    "import requests\n",
    "import datetime\n",
    "import time\n",
    "from io import StringIO\n",
    "from bs4 import BeautifulSoup\n",
    "from tqdm import tqdm\n",
    "import pickle\n",
    "import os\n",
    "import json\n",
    "from datetime import date"
   ]
  },
  {
   "cell_type": "code",
   "execution_count": 11,
   "metadata": {},
   "outputs": [
    {
     "data": {
      "text/plain": [
       "'2007-04-23'"
      ]
     },
     "execution_count": 11,
     "metadata": {},
     "output_type": "execute_result"
    }
   ],
   "source": [
    "df = pd.read_pickle('./history/收盤價.pkl')\n",
    "df.index[0].strftime(\"%Y-%m-%d\")"
   ]
  },
  {
   "cell_type": "code",
   "execution_count": 12,
   "metadata": {},
   "outputs": [
    {
     "name": "stderr",
     "output_type": "stream",
     "text": [
      "100%|████████████████████████████████████████████████████████████████████████████| 3782/3782 [2:33:08<00:00,  2.43s/it]\n"
     ]
    }
   ],
   "source": [
    "df = pd.read_pickle('./history/收盤價.pkl')\n",
    "import requests\n",
    "result = []\n",
    "for i in tqdm(df.index):\n",
    "    day = i.strftime(\"%Y-%m-%d\").replace('-','/')\n",
    "    url = 'https://www.taifex.com.tw/cht/3/futDailyMarketReport'\n",
    "    payload = {'queryType': '2'\n",
    "        , 'marketCode': '0'\n",
    "        , 'dateaddcnt': ''\n",
    "        , 'commodity_id': 'TX'\n",
    "        , 'commodity_id2': ''\n",
    "        , 'queryDate': day\n",
    "        , 'MarketCode': '0'\n",
    "        , 'commodity_idt': 'TX'\n",
    "        , 'commodity_id2t': ''\n",
    "        , 'commodity_id2t2': ''}\n",
    "    encoding = 'utf8'\n",
    "    r = requests.post(url, data=payload)\n",
    "\n",
    "    soup = BeautifulSoup(r.text, 'html.parser')\n",
    "    data = soup.find_all('td',class_ = \"12bk\")\n",
    "    result.append([day,data[2].getText(),data[3].getText(),data[4].getText(),data[5].getText()])\n",
    "    time.sleep(2)\n",
    "new_df = pd.DataFrame(result)\n",
    "new_df.to_csv(\"./台指期.csv\",encoding='utf_8_sig')\n",
    "\n"
   ]
  },
  {
   "cell_type": "code",
   "execution_count": 13,
   "metadata": {},
   "outputs": [],
   "source": [
    "data = pd.read_csv('./tx.csv', index_col = False)\n",
    "data.columns = ['index','date', 'start', 'high', 'low', 'end']\n",
    "#data['大盤漲跌幅'] = round(data['end'].diff(1))\n",
    "data.to_csv(\"./tx.csv\",encoding='utf_8_sig', index=False)"
   ]
  },
  {
   "cell_type": "code",
   "execution_count": null,
   "metadata": {},
   "outputs": [],
   "source": []
  }
 ],
 "metadata": {
  "kernelspec": {
   "display_name": "Python 3",
   "language": "python",
   "name": "python3"
  },
  "language_info": {
   "codemirror_mode": {
    "name": "ipython",
    "version": 3
   },
   "file_extension": ".py",
   "mimetype": "text/x-python",
   "name": "python",
   "nbconvert_exporter": "python",
   "pygments_lexer": "ipython3",
   "version": "3.8.5"
  }
 },
 "nbformat": 4,
 "nbformat_minor": 4
}
